{
 "cells": [
  {
   "cell_type": "code",
   "execution_count": 1,
   "metadata": {},
   "outputs": [
    {
     "data": {
      "text/html": [
       "<div>\n",
       "<style scoped>\n",
       "    .dataframe tbody tr th:only-of-type {\n",
       "        vertical-align: middle;\n",
       "    }\n",
       "\n",
       "    .dataframe tbody tr th {\n",
       "        vertical-align: top;\n",
       "    }\n",
       "\n",
       "    .dataframe thead th {\n",
       "        text-align: right;\n",
       "    }\n",
       "</style>\n",
       "<table border=\"1\" class=\"dataframe\">\n",
       "  <thead>\n",
       "    <tr style=\"text-align: right;\">\n",
       "      <th></th>\n",
       "      <th>log</th>\n",
       "    </tr>\n",
       "  </thead>\n",
       "  <tbody>\n",
       "    <tr>\n",
       "      <th>0</th>\n",
       "      <td>081111 032233 34 INFO dfs.FSNamesystem: BLOCK*...</td>\n",
       "    </tr>\n",
       "    <tr>\n",
       "      <th>1</th>\n",
       "      <td>081110 123023 11088 INFO dfs.DataNode$PacketRe...</td>\n",
       "    </tr>\n",
       "    <tr>\n",
       "      <th>2</th>\n",
       "      <td>081111 072459 34 INFO dfs.FSNamesystem: BLOCK*...</td>\n",
       "    </tr>\n",
       "    <tr>\n",
       "      <th>3</th>\n",
       "      <td>081111 023014 27 INFO dfs.FSNamesystem: BLOCK*...</td>\n",
       "    </tr>\n",
       "    <tr>\n",
       "      <th>4</th>\n",
       "      <td>081111 030004 18183 INFO dfs.DataNode$DataXcei...</td>\n",
       "    </tr>\n",
       "  </tbody>\n",
       "</table>\n",
       "</div>"
      ],
      "text/plain": [
       "                                                 log\n",
       "0  081111 032233 34 INFO dfs.FSNamesystem: BLOCK*...\n",
       "1  081110 123023 11088 INFO dfs.DataNode$PacketRe...\n",
       "2  081111 072459 34 INFO dfs.FSNamesystem: BLOCK*...\n",
       "3  081111 023014 27 INFO dfs.FSNamesystem: BLOCK*...\n",
       "4  081111 030004 18183 INFO dfs.DataNode$DataXcei..."
      ]
     },
     "execution_count": 1,
     "metadata": {},
     "output_type": "execute_result"
    }
   ],
   "source": [
    "import pandas as pd\n",
    "\n",
    "log_path = '../data/HDFS.log'\n",
    "with open(log_path, 'r') as file:\n",
    "    lines = file.readlines()\n",
    "\n",
    "logs = pd.DataFrame(lines, columns=['log'])\n",
    "logs.head()\n"
   ]
  },
  {
   "cell_type": "code",
   "execution_count": 2,
   "metadata": {},
   "outputs": [
    {
     "data": {
      "text/html": [
       "<div>\n",
       "<style scoped>\n",
       "    .dataframe tbody tr th:only-of-type {\n",
       "        vertical-align: middle;\n",
       "    }\n",
       "\n",
       "    .dataframe tbody tr th {\n",
       "        vertical-align: top;\n",
       "    }\n",
       "\n",
       "    .dataframe thead th {\n",
       "        text-align: right;\n",
       "    }\n",
       "</style>\n",
       "<table border=\"1\" class=\"dataframe\">\n",
       "  <thead>\n",
       "    <tr style=\"text-align: right;\">\n",
       "      <th></th>\n",
       "      <th>log</th>\n",
       "      <th>block_id</th>\n",
       "    </tr>\n",
       "  </thead>\n",
       "  <tbody>\n",
       "    <tr>\n",
       "      <th>0</th>\n",
       "      <td>081111 032233 34 INFO dfs.FSNamesystem: BLOCK*...</td>\n",
       "      <td>blk_-5327725140452543501</td>\n",
       "    </tr>\n",
       "    <tr>\n",
       "      <th>1</th>\n",
       "      <td>081110 123023 11088 INFO dfs.DataNode$PacketRe...</td>\n",
       "      <td>blk_-8773898409706445615</td>\n",
       "    </tr>\n",
       "    <tr>\n",
       "      <th>2</th>\n",
       "      <td>081111 072459 34 INFO dfs.FSNamesystem: BLOCK*...</td>\n",
       "      <td>blk_-4329641471754524122</td>\n",
       "    </tr>\n",
       "    <tr>\n",
       "      <th>3</th>\n",
       "      <td>081111 023014 27 INFO dfs.FSNamesystem: BLOCK*...</td>\n",
       "      <td>blk_-390921607507384009</td>\n",
       "    </tr>\n",
       "    <tr>\n",
       "      <th>4</th>\n",
       "      <td>081111 030004 18183 INFO dfs.DataNode$DataXcei...</td>\n",
       "      <td>blk_-2967608524545562422</td>\n",
       "    </tr>\n",
       "  </tbody>\n",
       "</table>\n",
       "</div>"
      ],
      "text/plain": [
       "                                                 log                  block_id\n",
       "0  081111 032233 34 INFO dfs.FSNamesystem: BLOCK*...  blk_-5327725140452543501\n",
       "1  081110 123023 11088 INFO dfs.DataNode$PacketRe...  blk_-8773898409706445615\n",
       "2  081111 072459 34 INFO dfs.FSNamesystem: BLOCK*...  blk_-4329641471754524122\n",
       "3  081111 023014 27 INFO dfs.FSNamesystem: BLOCK*...   blk_-390921607507384009\n",
       "4  081111 030004 18183 INFO dfs.DataNode$DataXcei...  blk_-2967608524545562422"
      ]
     },
     "execution_count": 2,
     "metadata": {},
     "output_type": "execute_result"
    }
   ],
   "source": [
    "import regex as re\n",
    "\n",
    "# Функция для извлечения block_id\n",
    "def extract_block_id(log_line):\n",
    "    match = re.search(r'blk_-?\\d+', log_line)\n",
    "    return match.group(0) if match else None\n",
    "\n",
    "logs['block_id'] = logs['log'].apply(extract_block_id)\n",
    "\n",
    "logs.dropna(subset=['block_id'], inplace=True)\n",
    "all_logs = logs['log'].unique()\n",
    "\n",
    "logs.head()\n"
   ]
  },
  {
   "cell_type": "code",
   "execution_count": 3,
   "metadata": {},
   "outputs": [
    {
     "data": {
      "text/html": [
       "<div>\n",
       "<style scoped>\n",
       "    .dataframe tbody tr th:only-of-type {\n",
       "        vertical-align: middle;\n",
       "    }\n",
       "\n",
       "    .dataframe tbody tr th {\n",
       "        vertical-align: top;\n",
       "    }\n",
       "\n",
       "    .dataframe thead th {\n",
       "        text-align: right;\n",
       "    }\n",
       "</style>\n",
       "<table border=\"1\" class=\"dataframe\">\n",
       "  <thead>\n",
       "    <tr style=\"text-align: right;\">\n",
       "      <th></th>\n",
       "      <th>block_id</th>\n",
       "      <th>sequence</th>\n",
       "    </tr>\n",
       "  </thead>\n",
       "  <tbody>\n",
       "    <tr>\n",
       "      <th>0</th>\n",
       "      <td>blk_-1000002529962039464</td>\n",
       "      <td>[081111 094454 25868 INFO dfs.DataNode$PacketR...</td>\n",
       "    </tr>\n",
       "    <tr>\n",
       "      <th>1</th>\n",
       "      <td>blk_-100000266894974466</td>\n",
       "      <td>[081110 020141 6105 INFO dfs.DataNode$PacketRe...</td>\n",
       "    </tr>\n",
       "    <tr>\n",
       "      <th>2</th>\n",
       "      <td>blk_-1000054577281647820</td>\n",
       "      <td>[081110 012531 5179 INFO dfs.DataNode$PacketRe...</td>\n",
       "    </tr>\n",
       "    <tr>\n",
       "      <th>3</th>\n",
       "      <td>blk_-1000245396392748444</td>\n",
       "      <td>[081110 002154 4817 INFO dfs.DataNode$PacketRe...</td>\n",
       "    </tr>\n",
       "    <tr>\n",
       "      <th>4</th>\n",
       "      <td>blk_-1000285592763698141</td>\n",
       "      <td>[081110 162157 13111 INFO dfs.DataNode$DataXce...</td>\n",
       "    </tr>\n",
       "  </tbody>\n",
       "</table>\n",
       "</div>"
      ],
      "text/plain": [
       "                   block_id                                           sequence\n",
       "0  blk_-1000002529962039464  [081111 094454 25868 INFO dfs.DataNode$PacketR...\n",
       "1   blk_-100000266894974466  [081110 020141 6105 INFO dfs.DataNode$PacketRe...\n",
       "2  blk_-1000054577281647820  [081110 012531 5179 INFO dfs.DataNode$PacketRe...\n",
       "3  blk_-1000245396392748444  [081110 002154 4817 INFO dfs.DataNode$PacketRe...\n",
       "4  blk_-1000285592763698141  [081110 162157 13111 INFO dfs.DataNode$DataXce..."
      ]
     },
     "execution_count": 3,
     "metadata": {},
     "output_type": "execute_result"
    }
   ],
   "source": [
    "sessions = logs.groupby('block_id')['log'].apply(list).reset_index(name='sequence')\n",
    "\n",
    "sessions.head()"
   ]
  },
  {
   "cell_type": "code",
   "execution_count": 4,
   "metadata": {},
   "outputs": [
    {
     "data": {
      "text/html": [
       "<div>\n",
       "<style scoped>\n",
       "    .dataframe tbody tr th:only-of-type {\n",
       "        vertical-align: middle;\n",
       "    }\n",
       "\n",
       "    .dataframe tbody tr th {\n",
       "        vertical-align: top;\n",
       "    }\n",
       "\n",
       "    .dataframe thead th {\n",
       "        text-align: right;\n",
       "    }\n",
       "</style>\n",
       "<table border=\"1\" class=\"dataframe\">\n",
       "  <thead>\n",
       "    <tr style=\"text-align: right;\">\n",
       "      <th></th>\n",
       "      <th>block_id</th>\n",
       "      <th>sequence</th>\n",
       "      <th>encoded</th>\n",
       "    </tr>\n",
       "  </thead>\n",
       "  <tbody>\n",
       "    <tr>\n",
       "      <th>0</th>\n",
       "      <td>blk_-1000002529962039464</td>\n",
       "      <td>[081111 094454 25868 INFO dfs.DataNode$PacketR...</td>\n",
       "      <td>[242059]</td>\n",
       "    </tr>\n",
       "    <tr>\n",
       "      <th>1</th>\n",
       "      <td>blk_-100000266894974466</td>\n",
       "      <td>[081110 020141 6105 INFO dfs.DataNode$PacketRe...</td>\n",
       "      <td>[261783]</td>\n",
       "    </tr>\n",
       "    <tr>\n",
       "      <th>2</th>\n",
       "      <td>blk_-1000054577281647820</td>\n",
       "      <td>[081110 012531 5179 INFO dfs.DataNode$PacketRe...</td>\n",
       "      <td>[109530]</td>\n",
       "    </tr>\n",
       "    <tr>\n",
       "      <th>3</th>\n",
       "      <td>blk_-1000245396392748444</td>\n",
       "      <td>[081110 002154 4817 INFO dfs.DataNode$PacketRe...</td>\n",
       "      <td>[3086]</td>\n",
       "    </tr>\n",
       "    <tr>\n",
       "      <th>4</th>\n",
       "      <td>blk_-1000285592763698141</td>\n",
       "      <td>[081110 162157 13111 INFO dfs.DataNode$DataXce...</td>\n",
       "      <td>[86956]</td>\n",
       "    </tr>\n",
       "  </tbody>\n",
       "</table>\n",
       "</div>"
      ],
      "text/plain": [
       "                   block_id  \\\n",
       "0  blk_-1000002529962039464   \n",
       "1   blk_-100000266894974466   \n",
       "2  blk_-1000054577281647820   \n",
       "3  blk_-1000245396392748444   \n",
       "4  blk_-1000285592763698141   \n",
       "\n",
       "                                            sequence   encoded  \n",
       "0  [081111 094454 25868 INFO dfs.DataNode$PacketR...  [242059]  \n",
       "1  [081110 020141 6105 INFO dfs.DataNode$PacketRe...  [261783]  \n",
       "2  [081110 012531 5179 INFO dfs.DataNode$PacketRe...  [109530]  \n",
       "3  [081110 002154 4817 INFO dfs.DataNode$PacketRe...    [3086]  \n",
       "4  [081110 162157 13111 INFO dfs.DataNode$DataXce...   [86956]  "
      ]
     },
     "execution_count": 4,
     "metadata": {},
     "output_type": "execute_result"
    }
   ],
   "source": [
    "\n",
    "log2idx = {log: idx for idx, log in enumerate(all_logs)}\n",
    "\n",
    "def fast_encode(seq):\n",
    "    return [log2idx[log] for log in seq if log in log2idx]\n",
    "\n",
    "sessions['encoded'] = sessions['sequence'].apply(fast_encode)\n",
    "\n",
    "sessions.head()"
   ]
  },
  {
   "cell_type": "code",
   "execution_count": null,
   "metadata": {},
   "outputs": [
    {
     "name": "stdout",
     "output_type": "stream",
     "text": [
      "X shape: (3173, 3)\n",
      "y shape: (3173,)\n",
      "80\n"
     ]
    }
   ],
   "source": [
    "import numpy as np\n",
    "\n",
    "window_size = 3  #было 5, но модель выдавала лосс 12.3-> 12.0 и было меньше обучающих примеров (200)\n",
    "\n",
    "X = []\n",
    "y = []\n",
    "\n",
    "for encoded_seq in sessions['encoded']:\n",
    "    if len(encoded_seq) > window_size:\n",
    "        for i in range(len(encoded_seq) - window_size):\n",
    "            X.append(encoded_seq[i:i+window_size])\n",
    "            y.append(encoded_seq[i+window_size])\n",
    "\n",
    "X = np.array(X)\n",
    "y = np.array(y)\n",
    "\n",
    "print(f\"X shape: {X.shape}\")\n",
    "print(f\"y shape: {y.shape}\")\n",
    "# print((sessions['encoded'].apply(len) > 5).sum())"
   ]
  },
  {
   "cell_type": "code",
   "execution_count": 6,
   "metadata": {},
   "outputs": [],
   "source": [
    "import torch\n",
    "from torch.utils.data import Dataset, DataLoader\n",
    "\n",
    "class LogDataset(Dataset):\n",
    "    def __init__(self, X, y):\n",
    "        self.X = torch.tensor(X, dtype=torch.long)\n",
    "        self.y = torch.tensor(y, dtype=torch.long)\n",
    "\n",
    "    def __len__(self):\n",
    "        return len(self.X)\n",
    "\n",
    "    def __getitem__(self, idx):\n",
    "        return self.X[idx], self.y[idx]\n",
    "\n",
    "dataset = LogDataset(X, y)\n",
    "dataloader = DataLoader(dataset, batch_size=32, shuffle=True)"
   ]
  },
  {
   "cell_type": "code",
   "execution_count": 7,
   "metadata": {},
   "outputs": [],
   "source": [
    "import torch\n",
    "import torch.nn as nn\n",
    "\n",
    "device = torch.device('cuda' if torch.cuda.is_available() else 'cpu')\n",
    "\n",
    "class LSTMLogModel(nn.Module):\n",
    "    def __init__(self, vocab_size, embedding_dim=64, hidden_dim=256, dropout_rate= 0.3):\n",
    "        super(LSTMLogModel, self).__init__()\n",
    "        self.embedding = nn.Embedding(vocab_size, embedding_dim)\n",
    "        self.lstm = nn.LSTM(embedding_dim, hidden_dim, batch_first=True)\n",
    "        self.dropout= nn.Dropout(dropout_rate)\n",
    "        self.fc = nn.Linear(hidden_dim, vocab_size)\n",
    "\n",
    "    def forward(self, x):\n",
    "        x = self.embedding(x)\n",
    "        output, _ = self.lstm(x)\n",
    "        last_hidden = output[:, -1, :]\n",
    "        out = self.fc(self.dropout(last_hidden))\n",
    "        return out\n",
    "\n",
    "vocab_size = len(log2idx)\n",
    "model = LSTMLogModel(vocab_size).to(device)"
   ]
  },
  {
   "cell_type": "code",
   "execution_count": 8,
   "metadata": {},
   "outputs": [
    {
     "name": "stdout",
     "output_type": "stream",
     "text": [
      "Epoch 1/5 - Loss: 12.8260\n",
      "Epoch 2/5 - Loss: 10.1237\n",
      "Epoch 3/5 - Loss: 8.0760\n",
      "Epoch 4/5 - Loss: 6.8203\n",
      "Epoch 5/5 - Loss: 5.0914\n"
     ]
    }
   ],
   "source": [
    "optimizer = torch.optim.Adam(model.parameters(), lr=0.001)\n",
    "criterion = nn.CrossEntropyLoss()\n",
    "\n",
    "epochs = 5\n",
    "\n",
    "for epoch in range(epochs):\n",
    "    model.train()\n",
    "    total_loss = 0\n",
    "    for batch_x, batch_y in dataloader:\n",
    "        batch_x, batch_y = batch_x.to(device), batch_y.to(device)\n",
    "\n",
    "        optimizer.zero_grad()\n",
    "        logits = model(batch_x)\n",
    "        loss = criterion(logits, batch_y)\n",
    "        loss.backward()\n",
    "        optimizer.step()\n",
    "\n",
    "        total_loss += loss.item()\n",
    "\n",
    "    avg_loss = total_loss / len(dataloader)\n",
    "    print(f\"Epoch {epoch+1}/{epochs} - Loss: {avg_loss:.4f}\")"
   ]
  },
  {
   "cell_type": "code",
   "execution_count": 9,
   "metadata": {},
   "outputs": [
    {
     "name": "stdout",
     "output_type": "stream",
     "text": [
      " Входная последовательность:\n",
      "- 081111 060403 21415 INFO dfs.DataNode$PacketResponder: PacketResponder 0 for block blk_2078963298428616229 terminating\n",
      "- 081111 060323 21414 INFO dfs.DataNode$DataXceiver: Receiving block blk_2078963298428616229 src: /10.251.107.227:57741 dest: /10.251.107.227:50010\n",
      "- 081111 060403 21620 INFO dfs.DataNode$PacketResponder: PacketResponder 2 for block blk_2078963298428616229 terminating\n",
      "\n",
      " Предсказанный следующий лог :\n",
      "- 081111 065210 26 INFO dfs.FSNamesystem: BLOCK* NameSystem.delete: blk_2078963298428616229 is added to invalidSet of 10.251.107.227:50010\n",
      "\n",
      " Реальный лог:\n",
      "- 081111 065210 26 INFO dfs.FSNamesystem: BLOCK* NameSystem.delete: blk_2078963298428616229 is added to invalidSet of 10.251.107.227:50010\n",
      "\n",
      "  топ 5 предсказаний:\n",
      "1. 081111 065210 26 INFO dfs.FSNamesystem: BLOCK* NameSystem.delete: blk_2078963298428616229 is added to invalidSet of 10.251.107.227:50010\n",
      "2. 081111 023037 27 INFO dfs.FSNamesystem: BLOCK* NameSystem.delete: blk_-6081538214076312060 is added to invalidSet of 10.251.38.214:50010\n",
      "3. 081111 090746 25286 INFO dfs.DataNode$PacketResponder: PacketResponder 0 for block blk_5614345125092539225 terminating\n",
      "4. 081110 220925 19 INFO dfs.FSDataset: Deleting block blk_-988460644566804247 file /mnt/hadoop/dfs/data/current/blk_-988460644566804247\n",
      "5. 081110 015418 32 INFO dfs.FSNamesystem: BLOCK* NameSystem.allocateBlock: /user/root/randtxt/_temporary/_task_200811092030_0003_m_001639_0/part-01639. blk_9117011739593832431\n"
     ]
    }
   ],
   "source": [
    "import random\n",
    "model.eval()\n",
    "\n",
    "idx = random.randint(0, len(X) - 1)\n",
    "test_seq = torch.tensor(X[idx]).unsqueeze(0).to(device)\n",
    "\n",
    "with torch.no_grad():\n",
    "    output = model(test_seq)\n",
    "    predicted_token = torch.argmax(output, dim=1).item()\n",
    "    top_k = 5  \n",
    "    topk_indices = torch.topk(output, k=top_k, dim=1).indices[0].tolist()\n",
    "\n",
    "# Восстановим текст логов по индексам\n",
    "input_logs = [log for log, ix in log2idx.items() if ix in X[idx]]\n",
    "predicted_log = [log for log, ix in log2idx.items() if ix == predicted_token][0]\n",
    "real_log = [log for log, ix in log2idx.items() if ix == y[idx]][0]\n",
    "\n",
    "print(\" Входная последовательность:\")\n",
    "for log in input_logs:\n",
    "    print(\"-\", log.strip())\n",
    "\n",
    "print(\"\\n Предсказанный следующий лог :\")\n",
    "print(\"-\", predicted_log.strip())\n",
    "\n",
    "print(\"\\n Реальный лог:\")\n",
    "print(\"-\", real_log.strip())\n",
    "\n",
    "print(\"\\n  топ 5 предсказаний:\")\n",
    "for i, ix in enumerate(topk_indices):\n",
    "    log_txt = [log for log, log_ix in log2idx.items() if log_ix == ix][0]\n",
    "    print(f\"{i+1}. {log_txt.strip()}\")"
   ]
  },
  {
   "cell_type": "code",
   "execution_count": 10,
   "metadata": {},
   "outputs": [
    {
     "name": "stdout",
     "output_type": "stream",
     "text": [
      " Accuracy@1: 96.85% (3073/3173)\n",
      " Accuracy@3: 98.96% (3140/3173)\n",
      " Accuracy@5: 99.12% (3145/3173)\n"
     ]
    }
   ],
   "source": [
    "def evaluate_top_k(model, X, y, top_k_list=[1, 3, 5]):\n",
    "    model.eval()\n",
    "    results = {k: 0 for k in top_k_list}\n",
    "    total = len(X)\n",
    "\n",
    "    with torch.no_grad():\n",
    "        for i in range(total):\n",
    "            x_input = torch.tensor(X[i]).unsqueeze(0).to(device)  # shape: [1, seq_len]\n",
    "            target = y[i]\n",
    "\n",
    "            logits = model(x_input)\n",
    "            for k in top_k_list:\n",
    "                topk = torch.topk(logits, k=k, dim=1).indices[0].tolist()\n",
    "                if target in topk:\n",
    "                    results[k] += 1\n",
    "\n",
    "    for k in top_k_list:\n",
    "        acc = results[k] / total * 100\n",
    "        print(f\" Accuracy@{k}: {acc:.2f}% ({results[k]}/{total})\")\n",
    "\n",
    "evaluate_top_k(model, X, y)"
   ]
  },
  {
   "cell_type": "code",
   "execution_count": 11,
   "metadata": {},
   "outputs": [
    {
     "name": "stdout",
     "output_type": "stream",
     "text": [
      "                    BlockId    Label\n",
      "0  blk_-1608999687919862906   Normal\n",
      "1   blk_7503483334202473044   Normal\n",
      "2  blk_-3544583377289625738  Anomaly\n",
      "3  blk_-9073992586687739851   Normal\n",
      "4   blk_7854771516489510256   Normal\n",
      "Index(['BlockId', 'Label'], dtype='object')\n"
     ]
    }
   ],
   "source": [
    "label_path = '../data/anomaly_label.csv'\n",
    "labels_df = pd.read_csv(label_path)\n",
    "\n",
    "print(labels_df.head())\n",
    "print(labels_df.columns)"
   ]
  },
  {
   "cell_type": "code",
   "execution_count": 12,
   "metadata": {},
   "outputs": [
    {
     "data": {
      "text/html": [
       "<div>\n",
       "<style scoped>\n",
       "    .dataframe tbody tr th:only-of-type {\n",
       "        vertical-align: middle;\n",
       "    }\n",
       "\n",
       "    .dataframe tbody tr th {\n",
       "        vertical-align: top;\n",
       "    }\n",
       "\n",
       "    .dataframe thead th {\n",
       "        text-align: right;\n",
       "    }\n",
       "</style>\n",
       "<table border=\"1\" class=\"dataframe\">\n",
       "  <thead>\n",
       "    <tr style=\"text-align: right;\">\n",
       "      <th></th>\n",
       "      <th>block_id</th>\n",
       "      <th>sequence</th>\n",
       "      <th>encoded</th>\n",
       "      <th>label</th>\n",
       "    </tr>\n",
       "  </thead>\n",
       "  <tbody>\n",
       "    <tr>\n",
       "      <th>0</th>\n",
       "      <td>blk_-1000002529962039464</td>\n",
       "      <td>[081111 094454 25868 INFO dfs.DataNode$PacketR...</td>\n",
       "      <td>[242059]</td>\n",
       "      <td>0</td>\n",
       "    </tr>\n",
       "    <tr>\n",
       "      <th>1</th>\n",
       "      <td>blk_-100000266894974466</td>\n",
       "      <td>[081110 020141 6105 INFO dfs.DataNode$PacketRe...</td>\n",
       "      <td>[261783]</td>\n",
       "      <td>0</td>\n",
       "    </tr>\n",
       "    <tr>\n",
       "      <th>2</th>\n",
       "      <td>blk_-1000054577281647820</td>\n",
       "      <td>[081110 012531 5179 INFO dfs.DataNode$PacketRe...</td>\n",
       "      <td>[109530]</td>\n",
       "      <td>0</td>\n",
       "    </tr>\n",
       "    <tr>\n",
       "      <th>3</th>\n",
       "      <td>blk_-1000245396392748444</td>\n",
       "      <td>[081110 002154 4817 INFO dfs.DataNode$PacketRe...</td>\n",
       "      <td>[3086]</td>\n",
       "      <td>0</td>\n",
       "    </tr>\n",
       "    <tr>\n",
       "      <th>4</th>\n",
       "      <td>blk_-1000285592763698141</td>\n",
       "      <td>[081110 162157 13111 INFO dfs.DataNode$DataXce...</td>\n",
       "      <td>[86956]</td>\n",
       "      <td>0</td>\n",
       "    </tr>\n",
       "  </tbody>\n",
       "</table>\n",
       "</div>"
      ],
      "text/plain": [
       "                   block_id  \\\n",
       "0  blk_-1000002529962039464   \n",
       "1   blk_-100000266894974466   \n",
       "2  blk_-1000054577281647820   \n",
       "3  blk_-1000245396392748444   \n",
       "4  blk_-1000285592763698141   \n",
       "\n",
       "                                            sequence   encoded  label  \n",
       "0  [081111 094454 25868 INFO dfs.DataNode$PacketR...  [242059]      0  \n",
       "1  [081110 020141 6105 INFO dfs.DataNode$PacketRe...  [261783]      0  \n",
       "2  [081110 012531 5179 INFO dfs.DataNode$PacketRe...  [109530]      0  \n",
       "3  [081110 002154 4817 INFO dfs.DataNode$PacketRe...    [3086]      0  \n",
       "4  [081110 162157 13111 INFO dfs.DataNode$DataXce...   [86956]      0  "
      ]
     },
     "execution_count": 12,
     "metadata": {},
     "output_type": "execute_result"
    }
   ],
   "source": [
    "labels_df.columns = ['block_id', 'label']\n",
    "\n",
    "labels_df['block_id'] = labels_df['block_id'].astype(str)\n",
    "sessions['block_id'] = sessions['block_id'].astype(str)\n",
    "\n",
    "sessions = sessions.merge(labels_df, on='block_id', how='inner')\n",
    "\n",
    "# Преобразуем метки в числа: Normal = 0, Anomaly = 1\n",
    "sessions['label'] = sessions['label'].map({'Normal': 0, 'Anomaly': 1})\n",
    "\n",
    "sessions.head()"
   ]
  },
  {
   "cell_type": "code",
   "execution_count": 13,
   "metadata": {},
   "outputs": [
    {
     "data": {
      "text/html": [
       "<div>\n",
       "<style scoped>\n",
       "    .dataframe tbody tr th:only-of-type {\n",
       "        vertical-align: middle;\n",
       "    }\n",
       "\n",
       "    .dataframe tbody tr th {\n",
       "        vertical-align: top;\n",
       "    }\n",
       "\n",
       "    .dataframe thead th {\n",
       "        text-align: right;\n",
       "    }\n",
       "</style>\n",
       "<table border=\"1\" class=\"dataframe\">\n",
       "  <thead>\n",
       "    <tr style=\"text-align: right;\">\n",
       "      <th></th>\n",
       "      <th>log_text</th>\n",
       "      <th>label</th>\n",
       "    </tr>\n",
       "  </thead>\n",
       "  <tbody>\n",
       "    <tr>\n",
       "      <th>0</th>\n",
       "      <td>081111 094454 25868 INFO dfs.DataNode$PacketRe...</td>\n",
       "      <td>0</td>\n",
       "    </tr>\n",
       "    <tr>\n",
       "      <th>1</th>\n",
       "      <td>081110 020141 6105 INFO dfs.DataNode$PacketRes...</td>\n",
       "      <td>0</td>\n",
       "    </tr>\n",
       "    <tr>\n",
       "      <th>2</th>\n",
       "      <td>081110 012531 5179 INFO dfs.DataNode$PacketRes...</td>\n",
       "      <td>0</td>\n",
       "    </tr>\n",
       "    <tr>\n",
       "      <th>3</th>\n",
       "      <td>081110 002154 4817 INFO dfs.DataNode$PacketRes...</td>\n",
       "      <td>0</td>\n",
       "    </tr>\n",
       "    <tr>\n",
       "      <th>4</th>\n",
       "      <td>081110 162157 13111 INFO dfs.DataNode$DataXcei...</td>\n",
       "      <td>0</td>\n",
       "    </tr>\n",
       "  </tbody>\n",
       "</table>\n",
       "</div>"
      ],
      "text/plain": [
       "                                            log_text  label\n",
       "0  081111 094454 25868 INFO dfs.DataNode$PacketRe...      0\n",
       "1  081110 020141 6105 INFO dfs.DataNode$PacketRes...      0\n",
       "2  081110 012531 5179 INFO dfs.DataNode$PacketRes...      0\n",
       "3  081110 002154 4817 INFO dfs.DataNode$PacketRes...      0\n",
       "4  081110 162157 13111 INFO dfs.DataNode$DataXcei...      0"
      ]
     },
     "execution_count": 13,
     "metadata": {},
     "output_type": "execute_result"
    }
   ],
   "source": [
    "# Преобразуем последовательности логов в текст\n",
    "sessions['log_text'] = sessions['sequence'].apply(lambda seq: ' '.join(seq))\n",
    "\n",
    "sessions[['log_text', 'label']].head()"
   ]
  },
  {
   "cell_type": "code",
   "execution_count": 14,
   "metadata": {},
   "outputs": [
    {
     "name": "stdout",
     "output_type": "stream",
     "text": [
      " До oversampling:\n",
      "label\n",
      "0    191759\n",
      "1      4781\n",
      "Name: count, dtype: int64\n",
      "Доля аномалий: 2.43%\n",
      " После oversampling:\n",
      "label\n",
      "0    191759\n",
      "1     47810\n",
      "Name: count, dtype: int64\n",
      "Доля аномалий: 19.96%\n"
     ]
    }
   ],
   "source": [
    "from sklearn.model_selection import train_test_split\n",
    "import pandas as pd\n",
    "\n",
    "train_sessions, test_sessions = train_test_split(\n",
    "    sessions,\n",
    "    test_size=0.2,\n",
    "    stratify=sessions['label'],\n",
    "    random_state=42\n",
    ")\n",
    "\n",
    "\n",
    "train_split, val_split = train_test_split(\n",
    "    train_sessions,\n",
    "    test_size=0.1,\n",
    "    stratify=train_sessions['label'],\n",
    "    random_state=42\n",
    ")\n",
    "print(\" До oversampling:\")\n",
    "print(train_split['label'].value_counts())\n",
    "print(f\"Доля аномалий: {train_split['label'].value_counts(normalize=True)[1]:.2%}\")\n",
    "\n",
    "def soft_oversample(train_df, minority_label=1, multiplier=10):\n",
    "    minority_df = train_df[train_df['label'] == minority_label]\n",
    "    majority_df = train_df[train_df['label'] != minority_label]\n",
    "    \n",
    "\n",
    "    minority_oversampled = pd.concat([minority_df] * multiplier, ignore_index=True)\n",
    "    \n",
    "\n",
    "    balanced_train = pd.concat([majority_df, minority_oversampled], ignore_index=True)\n",
    "    balanced_train = balanced_train.sample(frac=1.0, random_state=42).reset_index(drop=True)\n",
    "    \n",
    "    return balanced_train\n",
    "\n",
    "train_split = soft_oversample(train_split)\n",
    "print(\" После oversampling:\")\n",
    "print(train_split['label'].value_counts())\n",
    "print(f\"Доля аномалий: {train_split['label'].value_counts(normalize=True)[1]:.2%}\")"
   ]
  },
  {
   "cell_type": "code",
   "execution_count": 15,
   "metadata": {},
   "outputs": [
    {
     "name": "stdout",
     "output_type": "stream",
     "text": [
      "Class weights: tensor([0.4853, 1.2543], device='cuda:0')\n"
     ]
    }
   ],
   "source": [
    "import numpy as np\n",
    "from sklearn.utils.class_weight import compute_class_weight\n",
    "\n",
    "class_weights = compute_class_weight(\n",
    "    class_weight='balanced',\n",
    "    classes=np.unique(train_split['label']),\n",
    "    y=train_split['label']\n",
    ")\n",
    "scaled_weights = np.log1p(class_weights)\n",
    "\n",
    "# weights_tensor = torch.tensor([1.0, 5.0], dtype=torch.float).to(device)\n",
    "weights_tensor = torch.tensor(scaled_weights, dtype=torch.float).to(device)\n",
    "print(\"Class weights:\", weights_tensor)"
   ]
  },
  {
   "cell_type": "code",
   "execution_count": 16,
   "metadata": {},
   "outputs": [],
   "source": [
    "import random\n",
    "\n",
    "\n",
    "def shuffle_logs(text, p=0.6):\n",
    "    lines = text.strip().split('\\n')\n",
    "    if random.random() < p:\n",
    "        random.shuffle(lines)\n",
    "    return '\\n'.join(lines)\n",
    "\n",
    "def dropout_logs(text, drop_prob=0.3):\n",
    "    logs = text.strip().split('\\n')\n",
    "    kept = [log for log in logs if random.random() > drop_prob]\n",
    "    return '\\n'.join(kept if kept else logs[:1])\n",
    "\n",
    "log_synonyms = {\n",
    "    \"Task started\": \"Job initiated\",\n",
    "    \"Connection failed\": \"Network error\",\n",
    "    \"Job failed\": \"Execution error\",\n",
    "    \"Service unavailable\": \"Endpoint unreachable\"\n",
    "}\n",
    "\n",
    "def replace_synonyms(text):\n",
    "    for k, v in log_synonyms.items():\n",
    "        text = text.replace(k, v)\n",
    "    return text\n",
    "\n",
    "\n",
    "def clean_log_text(text):\n",
    "    # Удалим IP-адреса\n",
    "    text = re.sub(r'\\b(?:\\d{1,3}\\.){3}\\d{1,3}\\b', '<IP>', text)\n",
    "    # Удалим timestamps (6+ цифр подряд, как 081110 123023)\n",
    "    text = re.sub(r'\\b\\d{6,}\\b', '<NUM>', text)\n",
    "    # Удалим короткие числа (например, порты, PID, размер блоков и т.д.)\n",
    "    text = re.sub(r'\\b\\d{2,5}\\b', '<NUM>', text)\n",
    "    # Удалим block ids вида blk_-<число>\n",
    "    text = re.sub(r'blk_[-]?\\d+', '<BLOCK>', text)\n",
    "    return text\n",
    "\n",
    "train_sessions['log_text'] = train_split['log_text'].apply(\n",
    "    lambda x: clean_log_text(replace_synonyms(dropout_logs(shuffle_logs(x))))\n",
    ")"
   ]
  },
  {
   "cell_type": "code",
   "execution_count": 17,
   "metadata": {},
   "outputs": [
    {
     "name": "stderr",
     "output_type": "stream",
     "text": [
      "c:\\Users\\hasee\\Desktop\\dimplom\\soc_ml_project\\venv\\Lib\\site-packages\\tqdm\\auto.py:21: TqdmWarning: IProgress not found. Please update jupyter and ipywidgets. See https://ipywidgets.readthedocs.io/en/stable/user_install.html\n",
      "  from .autonotebook import tqdm as notebook_tqdm\n"
     ]
    },
    {
     "name": "stdout",
     "output_type": "stream",
     "text": [
      " Train  input_ids shape: torch.Size([239569, 256])\n",
      " Val    input_ids shape: torch.Size([21838, 256])\n",
      " Test   input_ids shape: torch.Size([54595, 256])\n"
     ]
    }
   ],
   "source": [
    "from transformers import BertTokenizer\n",
    "\n",
    "tokenizer = BertTokenizer.from_pretrained('bert-base-uncased')\n",
    "\n",
    "\n",
    "tokenized_train = tokenizer(\n",
    "    train_split['log_text'].tolist(),\n",
    "    padding='max_length',\n",
    "    truncation=True,\n",
    "    max_length=256,\n",
    "    return_tensors='pt'\n",
    ")\n",
    "\n",
    "tokenized_val = tokenizer(\n",
    "    val_split['log_text'].tolist(),\n",
    "    padding='max_length',\n",
    "    truncation=True,\n",
    "    max_length=256,\n",
    "    return_tensors='pt'\n",
    ")\n",
    "\n",
    "tokenized_test = tokenizer(\n",
    "    test_sessions['log_text'].tolist(),\n",
    "    padding='max_length',\n",
    "    truncation=True,\n",
    "    max_length=256,\n",
    "    return_tensors='pt'\n",
    ")\n",
    "\n",
    "print(\" Train  input_ids shape:\", tokenized_train['input_ids'].shape)\n",
    "print(\" Val    input_ids shape:\", tokenized_val  ['input_ids'].shape)\n",
    "print(\" Test   input_ids shape:\", tokenized_test ['input_ids'].shape)"
   ]
  },
  {
   "cell_type": "code",
   "execution_count": 18,
   "metadata": {},
   "outputs": [],
   "source": [
    "from torch.utils.data import Dataset, DataLoader\n",
    "import torch\n",
    "\n",
    "# Создаём класс Dataset для логов\n",
    "class LogBERTDataset(Dataset):\n",
    "    def __init__(self, encodings, labels):\n",
    "        self.encodings = encodings\n",
    "        self.labels = labels\n",
    "\n",
    "    def __getitem__(self, idx):\n",
    "        return {\n",
    "            'input_ids': self.encodings['input_ids'][idx],\n",
    "            'attention_mask': self.encodings['attention_mask'][idx],\n",
    "            'labels': self.labels[idx]\n",
    "        }\n",
    "\n",
    "    def __len__(self):\n",
    "        return len(self.labels)\n",
    "\n",
    "# метки в тензоры\n",
    "train_labels = torch.tensor(train_split['label'].values)\n",
    "val_labels   = torch.tensor(val_split  ['label'].values)\n",
    "test_labels  = torch.tensor(test_sessions['label'].values)\n",
    "\n",
    "# сами датасеты\n",
    "train_dataset = LogBERTDataset(tokenized_train, train_labels)\n",
    "val_dataset   = LogBERTDataset(tokenized_val,   val_labels)\n",
    "test_dataset  = LogBERTDataset(tokenized_test,  test_labels)\n",
    "\n",
    "# дата-лодеры с батчами \n",
    "train_loader = DataLoader(train_dataset, batch_size=8, shuffle=True)\n",
    "val_loader   = DataLoader(val_dataset,   batch_size=8)\n",
    "test_loader  = DataLoader(test_dataset,  batch_size=8)"
   ]
  },
  {
   "cell_type": "code",
   "execution_count": 19,
   "metadata": {},
   "outputs": [
    {
     "name": "stdout",
     "output_type": "stream",
     "text": [
      "CUDA available: True\n",
      "Device name: NVIDIA GeForce RTX 2060\n",
      "Device count: 1\n"
     ]
    }
   ],
   "source": [
    "import torch\n",
    "\n",
    "print(\"CUDA available:\", torch.cuda.is_available())\n",
    "if torch.cuda.is_available():\n",
    "    print(\"Device name:\", torch.cuda.get_device_name(0))\n",
    "    print(\"Device count:\", torch.cuda.device_count())"
   ]
  },
  {
   "cell_type": "code",
   "execution_count": 20,
   "metadata": {},
   "outputs": [
    {
     "name": "stderr",
     "output_type": "stream",
     "text": [
      "Some weights of BertForSequenceClassification were not initialized from the model checkpoint at bert-base-uncased and are newly initialized: ['classifier.bias', 'classifier.weight']\n",
      "You should probably TRAIN this model on a down-stream task to be able to use it for predictions and inference.\n"
     ]
    },
    {
     "name": "stdout",
     "output_type": "stream",
     "text": [
      "устройство: cuda\n"
     ]
    },
    {
     "data": {
      "text/plain": [
       "BertForSequenceClassification(\n",
       "  (bert): BertModel(\n",
       "    (embeddings): BertEmbeddings(\n",
       "      (word_embeddings): Embedding(30522, 768, padding_idx=0)\n",
       "      (position_embeddings): Embedding(512, 768)\n",
       "      (token_type_embeddings): Embedding(2, 768)\n",
       "      (LayerNorm): LayerNorm((768,), eps=1e-12, elementwise_affine=True)\n",
       "      (dropout): Dropout(p=0.1, inplace=False)\n",
       "    )\n",
       "    (encoder): BertEncoder(\n",
       "      (layer): ModuleList(\n",
       "        (0-11): 12 x BertLayer(\n",
       "          (attention): BertAttention(\n",
       "            (self): BertSdpaSelfAttention(\n",
       "              (query): Linear(in_features=768, out_features=768, bias=True)\n",
       "              (key): Linear(in_features=768, out_features=768, bias=True)\n",
       "              (value): Linear(in_features=768, out_features=768, bias=True)\n",
       "              (dropout): Dropout(p=0.1, inplace=False)\n",
       "            )\n",
       "            (output): BertSelfOutput(\n",
       "              (dense): Linear(in_features=768, out_features=768, bias=True)\n",
       "              (LayerNorm): LayerNorm((768,), eps=1e-12, elementwise_affine=True)\n",
       "              (dropout): Dropout(p=0.1, inplace=False)\n",
       "            )\n",
       "          )\n",
       "          (intermediate): BertIntermediate(\n",
       "            (dense): Linear(in_features=768, out_features=3072, bias=True)\n",
       "            (intermediate_act_fn): GELUActivation()\n",
       "          )\n",
       "          (output): BertOutput(\n",
       "            (dense): Linear(in_features=3072, out_features=768, bias=True)\n",
       "            (LayerNorm): LayerNorm((768,), eps=1e-12, elementwise_affine=True)\n",
       "            (dropout): Dropout(p=0.1, inplace=False)\n",
       "          )\n",
       "        )\n",
       "      )\n",
       "    )\n",
       "    (pooler): BertPooler(\n",
       "      (dense): Linear(in_features=768, out_features=768, bias=True)\n",
       "      (activation): Tanh()\n",
       "    )\n",
       "  )\n",
       "  (dropout): Dropout(p=0.1, inplace=False)\n",
       "  (classifier): Linear(in_features=768, out_features=2, bias=True)\n",
       ")"
      ]
     },
     "execution_count": 20,
     "metadata": {},
     "output_type": "execute_result"
    }
   ],
   "source": [
    "from transformers import BertForSequenceClassification\n",
    "\n",
    "\n",
    "model = BertForSequenceClassification.from_pretrained(\n",
    "    'bert-base-uncased',\n",
    "    num_labels=2  # 0: Normal, 1: Anomaly\n",
    ")\n",
    "\n",
    "device = torch.device('cuda' if torch.cuda.is_available() else 'cpu')\n",
    "print(\"устройство:\", device)\n",
    "model.to(device)"
   ]
  },
  {
   "cell_type": "code",
   "execution_count": null,
   "metadata": {},
   "outputs": [],
   "source": [
    "from torch.optim import AdamW\n",
    "from tqdm import tqdm  \n",
    "from focal_loss.focal_loss import FocalLoss\n",
    "from torch.optim.lr_scheduler import ReduceLROnPlateau\n",
    "\n",
    "\n",
    "# n_pos = (train_split['label'] == 1).sum()\n",
    "# n_neg = (train_split['label'] == 0).sum()\n",
    "# pos_weight = torch.tensor(n_neg / n_pos, device=device)\n",
    "\n",
    "optimizer = AdamW(model.parameters(), lr=1e-5)\n",
    "#weight = torch.tensor([1.0, 3.0]).to(device)\n",
    "# criterion = torch.nn.CrossEntropyLoss(weight=weights_tensor)\n",
    "criterion = FocalLoss(weights=weights_tensor, gamma=2.5, reduction='mean')\n",
    "# criterion = torch.nn.BCEWithLogitsLoss(pos_weight=pos_weight)\n",
    "scheduler = ReduceLROnPlateau(\n",
    "    optimizer,\n",
    "    mode='max',             # мы отслеживаем валид. F1 (или Recall)\n",
    "    factor=0.5,             # LR ← LR * 0.5\n",
    "    patience=1,             # ждать 1 эпоху без улучшения\n",
    ")\n",
    "\n"
   ]
  },
  {
   "cell_type": "code",
   "execution_count": 22,
   "metadata": {},
   "outputs": [
    {
     "name": "stderr",
     "output_type": "stream",
     "text": [
      "Epoch 1/6 [TRAIN]: 100%|██████████| 29947/29947 [2:58:16<00:00,  2.80it/s]  \n"
     ]
    },
    {
     "name": "stdout",
     "output_type": "stream",
     "text": [
      " Epoch 1 — Train Loss: 0.0881\n"
     ]
    },
    {
     "name": "stderr",
     "output_type": "stream",
     "text": [
      "Epoch 1/6 [VAL]: 100%|██████████| 2730/2730 [05:16<00:00,  8.63it/s]\n"
     ]
    },
    {
     "name": "stdout",
     "output_type": "stream",
     "text": [
      " => Val best threshold 0.68, F1 0.3274, Precision 0.6071, Recall 0.2241 \n",
      "Current LR: 1.00e-05\n",
      "  New best model, saved. Best threshold now = 0.68\n"
     ]
    },
    {
     "name": "stderr",
     "output_type": "stream",
     "text": [
      "Epoch 2/6 [TRAIN]: 100%|██████████| 29947/29947 [2:59:51<00:00,  2.78it/s]  \n"
     ]
    },
    {
     "name": "stdout",
     "output_type": "stream",
     "text": [
      " Epoch 2 — Train Loss: 0.0485\n"
     ]
    },
    {
     "name": "stderr",
     "output_type": "stream",
     "text": [
      "Epoch 2/6 [VAL]: 100%|██████████| 2730/2730 [05:14<00:00,  8.69it/s]\n"
     ]
    },
    {
     "name": "stdout",
     "output_type": "stream",
     "text": [
      " => Val best threshold 0.70, F1 0.3186, Precision 0.3719, Recall 0.2787 \n",
      "Current LR: 1.00e-05\n"
     ]
    },
    {
     "name": "stderr",
     "output_type": "stream",
     "text": [
      "Epoch 3/6 [TRAIN]: 100%|██████████| 29947/29947 [2:56:55<00:00,  2.82it/s]  \n"
     ]
    },
    {
     "name": "stdout",
     "output_type": "stream",
     "text": [
      " Epoch 3 — Train Loss: 0.0263\n"
     ]
    },
    {
     "name": "stderr",
     "output_type": "stream",
     "text": [
      "Epoch 3/6 [VAL]: 100%|██████████| 2730/2730 [05:12<00:00,  8.75it/s]\n"
     ]
    },
    {
     "name": "stdout",
     "output_type": "stream",
     "text": [
      " => Val best threshold 0.70, F1 0.3274, Precision 0.5019, Recall 0.2429 \n",
      "Current LR: 1.00e-05\n",
      "  New best model, saved. Best threshold now = 0.70\n"
     ]
    },
    {
     "name": "stderr",
     "output_type": "stream",
     "text": [
      "Epoch 4/6 [TRAIN]: 100%|██████████| 29947/29947 [2:55:45<00:00,  2.84it/s]  \n"
     ]
    },
    {
     "name": "stdout",
     "output_type": "stream",
     "text": [
      " Epoch 4 — Train Loss: 0.0157\n"
     ]
    },
    {
     "name": "stderr",
     "output_type": "stream",
     "text": [
      "Epoch 4/6 [VAL]: 100%|██████████| 2730/2730 [05:05<00:00,  8.94it/s]\n"
     ]
    },
    {
     "name": "stdout",
     "output_type": "stream",
     "text": [
      " => Val best threshold 0.73, F1 0.3325, Precision 0.4676, Recall 0.2580 \n",
      "Current LR: 1.00e-05\n",
      "  New best model, saved. Best threshold now = 0.73\n"
     ]
    },
    {
     "name": "stderr",
     "output_type": "stream",
     "text": [
      "Epoch 5/6 [TRAIN]: 100%|██████████| 29947/29947 [2:54:59<00:00,  2.85it/s]  \n"
     ]
    },
    {
     "name": "stdout",
     "output_type": "stream",
     "text": [
      " Epoch 5 — Train Loss: 0.0102\n"
     ]
    },
    {
     "name": "stderr",
     "output_type": "stream",
     "text": [
      "Epoch 5/6 [VAL]: 100%|██████████| 2730/2730 [05:04<00:00,  8.95it/s]\n"
     ]
    },
    {
     "name": "stdout",
     "output_type": "stream",
     "text": [
      " => Val best threshold 0.70, F1 0.3091, Precision 0.3812, Recall 0.2599 \n",
      "Current LR: 1.00e-05\n"
     ]
    },
    {
     "name": "stderr",
     "output_type": "stream",
     "text": [
      "Epoch 6/6 [TRAIN]: 100%|██████████| 29947/29947 [2:55:13<00:00,  2.85it/s]  \n"
     ]
    },
    {
     "name": "stdout",
     "output_type": "stream",
     "text": [
      " Epoch 6 — Train Loss: 0.0075\n"
     ]
    },
    {
     "name": "stderr",
     "output_type": "stream",
     "text": [
      "Epoch 6/6 [VAL]: 100%|██████████| 2730/2730 [05:08<00:00,  8.84it/s]\n"
     ]
    },
    {
     "name": "stdout",
     "output_type": "stream",
     "text": [
      " => Val best threshold 0.76, F1 0.3386, Precision 0.4730, Recall 0.2637 \n",
      "Current LR: 1.00e-05\n",
      "  New best model, saved. Best threshold now = 0.76\n",
      "\n",
      "*** Training done. Overall best val F1 = 0.3386 at threshold = 0.76 ***\n",
      "   epoch  train_loss    val_f1  val_precision  val_recall  threshold       lr\n",
      "0      1    0.088133  0.327373       0.607143    0.224105       0.68  0.00001\n",
      "1      2    0.048488  0.318622       0.371859    0.278719       0.70  0.00001\n",
      "2      3    0.026311  0.327411       0.501946    0.242938       0.70  0.00001\n",
      "3      4    0.015662  0.332524       0.467577    0.258004       0.73  0.00001\n",
      "4      5    0.010234  0.309071       0.381215    0.259887       0.70  0.00001\n",
      "5      6    0.007540  0.338573       0.472973    0.263653       0.76  0.00001\n"
     ]
    },
    {
     "data": {
      "image/png": "[encoded data removed]",
      "text/plain": [
       "<Figure size 1200x800 with 4 Axes>"
      ]
     },
     "metadata": {},
     "output_type": "display_data"
    }
   ],
   "source": [
    "import os\n",
    "from torch.nn.functional import softmax\n",
    "import numpy as np\n",
    "from sklearn.metrics import  f1_score, precision_score, recall_score\n",
    "\n",
    "\n",
    "epochs = 6  \n",
    "os.makedirs(\"saved_models\", exist_ok=True)\n",
    "\n",
    "best_val_f1 = 0.0\n",
    "best_threshold = 0.5  \n",
    "\n",
    "history = {\n",
    "    'epoch': [],\n",
    "    'train_loss': [],\n",
    "    'val_f1': [],\n",
    "    'val_precision': [],\n",
    "    'val_recall': [],\n",
    "    'threshold': [],\n",
    "    'lr': []\n",
    "}\n",
    "\n",
    "# model.load_state_dict(torch.load(\"saved_models/bert_best_val.pt\"))\n",
    "# model.to(device)\n",
    "\n",
    "for epoch in range(epochs):\n",
    "    model.train()\n",
    "    total_loss = 0\n",
    "    for batch in tqdm(train_loader, desc=f\"Epoch {epoch+1}/{epochs} [TRAIN]\"):\n",
    "        input_ids      = batch['input_ids'].to(device)\n",
    "        attention_mask = batch['attention_mask'].to(device)\n",
    "        labels         = batch['labels'].to(device)\n",
    "\n",
    "        optimizer.zero_grad()\n",
    "        outputs = model(input_ids, attention_mask=attention_mask)\n",
    "        probs   = softmax(outputs.logits, dim=1)\n",
    "        loss    = criterion(probs, labels)\n",
    "        # logits_pos   = outputs.logits[:, 1]           # shape [B,]\n",
    "        # labels_float = labels.float()                 # из {0,1} → float\n",
    "        # loss         = criterion(logits_pos, labels_float)\n",
    "        loss.backward()\n",
    "        optimizer.step()\n",
    "\n",
    "        total_loss += loss.item()\n",
    "\n",
    "    avg_train_loss = total_loss / len(train_loader)\n",
    "    print(f\" Epoch {epoch+1} — Train Loss: {avg_train_loss:.4f}\")\n",
    "\n",
    "    model.eval()\n",
    "    val_logits = []\n",
    "    val_labels = []\n",
    "    with torch.no_grad():\n",
    "        for batch in tqdm(val_loader, desc=f\"Epoch {epoch+1}/{epochs} [VAL]\"):\n",
    "            input_ids      = batch['input_ids'].to(device)\n",
    "            attention_mask = batch['attention_mask'].to(device)\n",
    "            labels         = batch['labels'].to(device)\n",
    "\n",
    "            outputs = model(input_ids, attention_mask=attention_mask)\n",
    "            probs   = softmax(outputs.logits, dim=1)[:,1]  # P(anomaly)\n",
    "            val_logits.extend(probs.cpu().numpy())\n",
    "            val_labels.extend(labels.cpu().numpy())\n",
    "\n",
    "    # подбор best_threshold по F1 на валидации\n",
    "    \n",
    "    thresholds = np.linspace(0.01, 0.99, 99)\n",
    "    f1s = []\n",
    "    for thr in thresholds:\n",
    "        preds = (np.array(val_logits) >= thr).astype(int)\n",
    "        f1s.append(f1_score(val_labels, preds, zero_division=0))\n",
    "    idx = int(np.argmax(f1s))\n",
    "    epoch_best_thr = thresholds[idx]\n",
    "    epoch_best_f1 = f1s[idx]\n",
    "\n",
    "    best_preds = (np.array(val_logits) >= epoch_best_thr).astype(int)\n",
    "    epoch_precision = precision_score(val_labels, best_preds, zero_division=0)\n",
    "    epoch_recall    = recall_score   (val_labels, best_preds, zero_division=0)\n",
    "\n",
    "    print(f\" => Val best threshold {epoch_best_thr:.2f}, F1 {epoch_best_f1:.4f}, Precision {epoch_precision:.4f}, Recall {epoch_recall:.4f} \")\n",
    "\n",
    "    scheduler.step(epoch_best_f1)\n",
    "    current_lr = scheduler.get_last_lr()[0]\n",
    "    print(f\"Current LR: {current_lr:.2e}\")\n",
    "\n",
    "    # Сохраняем, если лучше\n",
    "    if epoch_best_f1 > best_val_f1:\n",
    "        best_val_f1   = epoch_best_f1\n",
    "        best_threshold = epoch_best_thr\n",
    "        torch.save(model.state_dict(), \"saved_models/bert_best_val.pt\")\n",
    "        print(f\"  New best model, saved. Best threshold now = {best_threshold:.2f}\")\n",
    "\n",
    "    history['epoch'].append(epoch+1)\n",
    "    history['train_loss'].append(avg_train_loss)\n",
    "    history['val_f1'].append(epoch_best_f1)\n",
    "    history['val_precision'].append(epoch_precision)\n",
    "    history['val_recall'].append(epoch_recall)\n",
    "    history['threshold'].append(epoch_best_thr)\n",
    "    history['lr'].append(current_lr)\n",
    "\n",
    "print(f\"\\n*** Training done. Overall best val F1 = {best_val_f1:.4f} at threshold = {best_threshold:.2f} ***\")\n",
    "\n",
    "df_hist = pd.DataFrame(history)\n",
    "print(df_hist)\n",
    "\n",
    "import matplotlib.pyplot as plt\n",
    "\n",
    "fig, axs = plt.subplots(2, 2, figsize=(12, 8))\n",
    "df_hist.plot(x='epoch', y='train_loss',    ax=axs[0,0], title='Train Loss')\n",
    "df_hist.plot(x='epoch', y='val_f1',        ax=axs[0,1], title='Val F1')\n",
    "df_hist.plot(x='epoch', y='val_precision', ax=axs[1,0], title='Val Precision')\n",
    "df_hist.plot(x='epoch', y='val_recall',    ax=axs[1,1], title='Val Recall')\n",
    "plt.tight_layout()\n",
    "plt.show()"
   ]
  },
  {
   "cell_type": "code",
   "execution_count": 23,
   "metadata": {},
   "outputs": [
    {
     "name": "stderr",
     "output_type": "stream",
     "text": [
      "Testing: 100%|██████████| 6825/6825 [12:50<00:00,  8.85it/s]\n"
     ]
    },
    {
     "name": "stdout",
     "output_type": "stream",
     "text": [
      "\n",
      " Test results at threshold=0.76\n",
      "Precision: 0.4392\n",
      "Recall:    0.2395\n",
      "F1 Score:  0.3099\n",
      "Confusion Matrix:\n",
      "[[52861   406]\n",
      " [ 1010   318]]\n"
     ]
    }
   ],
   "source": [
    "from sklearn.metrics import precision_score, recall_score, f1_score, confusion_matrix\n",
    "\n",
    "# Загружаем лучший вес и фиксируем threshold\n",
    "model.load_state_dict(torch.load(\"saved_models/bert_best_val.pt\"))\n",
    "model.to(device)\n",
    "thr = best_threshold\n",
    "\n",
    "\n",
    "model.eval()\n",
    "test_logits = []\n",
    "test_labels = []\n",
    "with torch.no_grad():\n",
    "    for batch in tqdm(test_loader, desc=\"Testing\"):\n",
    "        input_ids      = batch['input_ids'].to(device)\n",
    "        attention_mask = batch['attention_mask'].to(device)\n",
    "        labels         = batch['labels'].to(device)\n",
    "\n",
    "        outputs = model(input_ids, attention_mask=attention_mask)\n",
    "        probs   = softmax(outputs.logits, dim=1)[:,1]\n",
    "        test_logits.extend(probs.cpu().numpy())\n",
    "        test_labels.extend(labels.cpu().numpy())\n",
    "\n",
    "preds = (np.array(test_logits) >= thr).astype(int)\n",
    "precision = precision_score(test_labels, preds, zero_division=0)\n",
    "recall    = recall_score(test_labels, preds, zero_division=0)\n",
    "f1        = f1_score(test_labels, preds, zero_division=0)\n",
    "cm        = confusion_matrix(test_labels, preds)\n",
    "\n",
    "print(f\"\\n Test results at threshold={thr:.2f}\")\n",
    "print(f\"Precision: {precision:.4f}\")\n",
    "print(f\"Recall:    {recall:.4f}\")\n",
    "print(f\"F1 Score:  {f1:.4f}\")\n",
    "print(\"Confusion Matrix:\")\n",
    "print(cm)\n"
   ]
  },
  {
   "cell_type": "code",
   "execution_count": 24,
   "metadata": {},
   "outputs": [
    {
     "name": "stderr",
     "output_type": "stream",
     "text": [
      "Собираем логиты: 100%|██████████| 6825/6825 [12:51<00:00,  8.85it/s]\n"
     ]
    },
    {
     "data": {
      "image/png": "[encoded data removed]",
      "text/plain": [
       "<Figure size 1000x600 with 1 Axes>"
      ]
     },
     "metadata": {},
     "output_type": "display_data"
    }
   ],
   "source": [
    "import torch\n",
    "from tqdm import tqdm\n",
    "import matplotlib.pyplot as plt\n",
    "\n",
    "logits_class0 = []\n",
    "logits_class1 = []\n",
    "labels_all = []\n",
    "\n",
    "model.eval()\n",
    "with torch.no_grad():\n",
    "    for batch in tqdm(test_loader, desc=\"Собираем логиты\"):\n",
    "        input_ids = batch['input_ids'].to(device)\n",
    "        attention_mask = batch['attention_mask'].to(device)\n",
    "        labels = batch['labels'].to(device)\n",
    "\n",
    "        outputs = model(input_ids, attention_mask=attention_mask)\n",
    "        logits = outputs.logits\n",
    "\n",
    "        logits_class0.extend(logits[:, 0].cpu().numpy())  # логиты класса 0\n",
    "        logits_class1.extend(logits[:, 1].cpu().numpy())  # логиты класса 1\n",
    "        labels_all.extend(labels.cpu().numpy())\n",
    "\n",
    "\n",
    "plt.figure(figsize=(10, 6))\n",
    "plt.hist([logits_class0, logits_class1], bins=100, label=['Normal (logit)', 'Anomaly (logit)'], color=['skyblue', 'salmon'], alpha=0.7)\n",
    "plt.title(\"Распределение логитов классов (до softmax)\")\n",
    "plt.xlabel(\"Logit value\")\n",
    "plt.ylabel(\"Количество лог-сессий\")\n",
    "plt.legend()\n",
    "plt.grid(True)\n",
    "plt.show()"
   ]
  },
  {
   "cell_type": "code",
   "execution_count": 25,
   "metadata": {},
   "outputs": [
    {
     "name": "stderr",
     "output_type": "stream",
     "text": [
      "Collecting anomaly probabilities: 100%|██████████| 6825/6825 [12:51<00:00,  8.85it/s]\n"
     ]
    },
    {
     "data": {
      "image/png": "[encoded data removed]",
      "text/plain": [
       "<Figure size 1000x600 with 1 Axes>"
      ]
     },
     "metadata": {},
     "output_type": "display_data"
    }
   ],
   "source": [
    "import matplotlib.pyplot as plt\n",
    "import seaborn as sns\n",
    "from torch.nn.functional import softmax\n",
    "from tqdm import tqdm\n",
    "\n",
    "model.eval()\n",
    "anomaly_probs = []\n",
    "\n",
    "with torch.no_grad():\n",
    "    for batch in tqdm(test_loader, desc=\"Collecting anomaly probabilities\"):\n",
    "        input_ids = batch['input_ids'].to(device)\n",
    "        attention_mask = batch['attention_mask'].to(device)\n",
    "\n",
    "        outputs = model(input_ids, attention_mask=attention_mask)\n",
    "        probs = softmax(outputs.logits, dim=1)\n",
    "        anomaly_probs.extend(probs[:, 1].cpu().numpy())  \n",
    "\n",
    "\n",
    "plt.figure(figsize=(10, 6))\n",
    "sns.histplot(anomaly_probs, bins=50, kde=True, color='red', alpha=0.6)\n",
    "plt.title(\"Распределение вероятностей класса 'Anomaly' (после softmax)\")\n",
    "plt.xlabel(\"Вероятность (softmax) класса 1\")\n",
    "plt.ylabel(\"Количество лог-сессий\")\n",
    "plt.grid(True)\n",
    "plt.show()"
   ]
  },
  {
   "cell_type": "code",
   "execution_count": 26,
   "metadata": {},
   "outputs": [
    {
     "name": "stderr",
     "output_type": "stream",
     "text": [
      "Collecting confidences: 100%|██████████| 6825/6825 [12:50<00:00,  8.86it/s]\n"
     ]
    },
    {
     "data": {
      "image/png": "[encoded data removed]",
      "text/plain": [
       "<Figure size 1000x600 with 1 Axes>"
      ]
     },
     "metadata": {},
     "output_type": "display_data"
    }
   ],
   "source": [
    "import torch\n",
    "from torch.nn.functional import softmax\n",
    "import matplotlib.pyplot as plt\n",
    "import seaborn as sns\n",
    "from tqdm import tqdm\n",
    "\n",
    "# Загружаем модель\n",
    "model.load_state_dict(torch.load(\"saved_models/bert_focal_epoch3.pt\"))\n",
    "model.eval()\n",
    "model.to(device)\n",
    "\n",
    "max_probs = []\n",
    "\n",
    "with torch.no_grad():\n",
    "    for batch in tqdm(test_loader, desc=\"Collecting confidences\"):\n",
    "        input_ids = batch['input_ids'].to(device)\n",
    "        attention_mask = batch['attention_mask'].to(device)\n",
    "\n",
    "        outputs = model(input_ids, attention_mask=attention_mask)\n",
    "        probs = softmax(outputs.logits, dim=1)\n",
    "\n",
    "        # Сохраняем максимальную вероятность (уверенность)\n",
    "        max_probs.extend(torch.max(probs, dim=1).values.cpu().numpy())\n",
    "\n",
    "# Визуализация\n",
    "plt.figure(figsize=(10, 6))\n",
    "sns.histplot(max_probs, bins=50, kde=True, color='purple', alpha=0.7)\n",
    "plt.title(\"Распределение уверенности модели (макс. вероятность по softmax)\")\n",
    "plt.xlabel(\"Максимальная вероятность (уверенность)\")\n",
    "plt.ylabel(\"Количество лог-сессий\")\n",
    "plt.grid(True)\n",
    "plt.show()"
   ]
  }
 ],
 "metadata": {
  "kernelspec": {
   "display_name": "Python (soc-ml-env)",
   "language": "python",
   "name": "soc-ml-env"
  },
  "language_info": {
   "codemirror_mode": {
    "name": "ipython",
    "version": 3
   },
   "file_extension": ".py",
   "mimetype": "text/x-python",
   "name": "python",
   "nbconvert_exporter": "python",
   "pygments_lexer": "ipython3",
   "version": "3.11.9"
  }
 },
 "nbformat": 4,
 "nbformat_minor": 2
}
